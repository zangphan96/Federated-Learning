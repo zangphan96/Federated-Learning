{
 "cells": [
  {
   "cell_type": "markdown",
   "id": "379a44cc",
   "metadata": {},
   "source": [
    "# CS-E4740  FL Flavors \n",
    "\n",
    "# Coding Assignment for the Quiz \"FL Flavors\" \n",
    "\n"
   ]
  },
  {
   "cell_type": "markdown",
   "id": "ec8bd7a8",
   "metadata": {},
   "source": [
    "Consider four data scientists: Emily, Helene, Anika and Isabella. Each of them has collected a local dataset which consists of several data points. Each data point is characterized by two numeric features x1 and x2 and a numeric label y. The data scientists had only access to one of the two features. \n",
    "\n",
    "The local datasets are stored in csv files, one such file for each data scientist. Missing feature values are indicated by the text \"missing\". \n",
    "\n",
    "Your task is to: \n",
    "\n",
    "* Read in the local datasets and replace missing feature values by the numeric value 0. \n",
    "* Each local dataset results in a numpy array `X` of shape (m,2) where m is the number of data points in the local dataset. The first column `X[:,0]` holds the feature values of `x1` (which is `0` if the feature value is missing) and the second column `X[:,1]` holds the values of feature `x2` (which is `0` if the feature value is missing). \n",
    "* Each local dataset results also in a numpy array `y` of shape (m,1) which hold the label values of the data points in the local dataset. \n",
    "* Create a networkx grap `G` with four nodes with attributes `X` and `y` being the numpy arrays generated above.\n",
    "* Add two edges to the graph `G`. \n",
    "* Use the ready-made function `FedSGD` (which implements the FedSGD algorithm from Section 9 in the lecture notes) to learn, for each node `i`, the weights $w^{(i)}_{1},w^{(i)}_{2}$ of a linear hypothesis map  \n",
    "$$h (\\mathbf{x}) = w^{(i)}_{1} x_{1} + w^{(i)}_{2} x_{2}$$\n",
    "that allows to predict the label of a data point with minimum squared error loss. \n",
    "* For the each local dataset, store the learnt weigts in an attribute \"w\" of the corresponding node in `G` (each node in `G` corresponds to one data scientist and its local dataset). The attribute \"w\" is a numpy array of shape `(2,)` with the first entry being $w^{(i)}_{1}$ and the second entry being $w^{(i)}_{2}$. \n"
   ]
  },
  {
   "cell_type": "code",
   "execution_count": 1,
   "id": "252e6a38",
   "metadata": {
    "scrolled": true
   },
   "outputs": [],
   "source": [
    "import networkx as nx \n",
    "import pandas as pd \n",
    "\n",
    "Gin = nx.Graph()\n",
    "\n",
    "datascientist = \"Helene\"\n",
    "filename = \"https://raw.githubusercontent.com/alexjungaalto/FederatedLearning/main/material/QuizFLFlavors/localdataset\"+datascientist \n",
    "df0=pd.read_csv(filename)  \n",
    "df0=df0.replace('missing',0)\n",
    "\n",
    "Gin.add_node(0) \n",
    "Gin.nodes[0]['name'] = datascientist\n",
    "Gin.nodes[0]['X'] = df0[[\"x1\",\"x2\"]].to_numpy()\n",
    "Gin.nodes[0]['y'] = df0[\"y\"].to_numpy().reshape(-1,1)\n",
    "\n",
    "datascientist = \"Isabella\"\n",
    "filename = \"https://raw.githubusercontent.com/alexjungaalto/FederatedLearning/main/material/QuizFLFlavors/localdataset\"+datascientist \n",
    "df1 =pd.read_csv(filename)  \n",
    "df1=df1.replace('missing',0)\n",
    "\n",
    "Gin.add_node(1) \n",
    "Gin.nodes[1]['name'] = datascientist\n",
    "Gin.nodes[1]['X'] = df1[[\"x1\",\"x2\"]].to_numpy()\n",
    "Gin.nodes[1]['y'] = df1[\"y\"].to_numpy().reshape(-1,1)\n",
    "\n",
    "datascientist = \"Anika\"\n",
    "filename = \"https://raw.githubusercontent.com/alexjungaalto/FederatedLearning/main/material/QuizFLFlavors/localdataset\"+datascientist \n",
    "df2 =pd.read_csv(filename)  \n",
    "df2=df2.replace('missing',0)\n",
    "\n",
    "Gin.add_node(2) \n",
    "Gin.nodes[2]['name'] = datascientist\n",
    "Gin.nodes[2]['X'] = df2[[\"x1\",\"x2\"]].to_numpy()\n",
    "Gin.nodes[2]['y'] = df2[\"y\"].to_numpy().reshape(-1,1)\n",
    "\n",
    "datascientist = \"Emily\"\n",
    "filename = \"https://raw.githubusercontent.com/alexjungaalto/FederatedLearning/main/material/QuizFLFlavors/localdataset\"+datascientist \n",
    "df3 =pd.read_csv(filename)  \n",
    "df3=df3.replace('missing',0)\n",
    "\n",
    "Gin.add_node(3) \n",
    "Gin.nodes[3]['name'] = datascientist\n",
    "Gin.nodes[3]['X'] = df3[[\"x1\",\"x2\"]].to_numpy()\n",
    "Gin.nodes[3]['y'] = df3[\"y\"].to_numpy().reshape(-1,1)"
   ]
  },
  {
   "cell_type": "code",
   "execution_count": 2,
   "id": "a3ee57af",
   "metadata": {},
   "outputs": [],
   "source": [
    "# input: \n",
    "# - graph: networkx.Graph() whose nodes have attributes \n",
    "#         -- \"X\": feature matrix X^{(i)} with feature vectors in its colunms \n",
    "#         -- \"y\": label vector y^{(i)} with labels of data points in local dataset\n",
    "#        .edges() are undirected and assumed to have unit weight (A_{i,j} = 1 for all edges)\n",
    "# - lrate: learningrate used for the gradientsteps \n",
    "# - regparam: regularization parameter that scaled the GTV term \n",
    "# - maxiter: maximum number of gradient steps. \n",
    "#output: \n",
    "#  - graph node attribute \"w\" which holds the weights w^{(i)} \n",
    "#\n",
    "\n",
    "def FedSGD(Gin,lrate=0.01,regparam=0,maxiter=100):\n",
    "# init model parmas (weights of linear maps) to zero \n",
    "\n",
    "    for node_i in Gin.nodes(data=False): \n",
    "        # determine number of features used to characterize data points \n",
    "        # this nr. of features is equal to the length of the weight vector\n",
    "        nrfeatures = Gin.nodes[node_i][\"X\"].shape[1]\n",
    "        Gin.nodes[node_i][\"w\"] = np.zeros((nrfeatures,1))\n",
    "\n",
    "    for iter_GD in range(maxiter):\n",
    "\n",
    "    # the following \"for loop\" computes the local gradient at each node \n",
    "        for node_i in Gin.nodes(data=False):\n",
    "            tmp_y = Gin.nodes[node_i][\"y\"].reshape(-1,1)\n",
    "            tmp_X = Gin.nodes[node_i][\"X\"]\n",
    "            localsamplesize = tmp_X.shape[0]\n",
    "            currw = Gin.nodes[node_i][\"w\"]\n",
    "            tmp_vec = np.zeros(currw.shape)\n",
    "            for node_j in Gin[node_i]: \n",
    "                tmp_vec += (currw - Gin.nodes[node_j][\"w\"])\n",
    "        \n",
    "            update = (1/localsamplesize)*tmp_X.T.dot(tmp_y-tmp_X.dot(currw))-regparam*tmp_vec  \n",
    "            # we need to store the updated weights in a dummy attribute \n",
    "            # as we need to use current weights for the updates of other nodes \n",
    "            Gin.nodes[node_i][\"w_new\"] = Gin.nodes[node_i][\"w\"]+2*lrate*update\n",
    "        for node_i in Gin.nodes(data=False): \n",
    "             Gin.nodes[node_i][\"w\"] =  Gin.nodes[node_i][\"w_new\"]"
   ]
  },
  {
   "cell_type": "markdown",
   "id": "dac06562",
   "metadata": {},
   "source": [
    "It is always a good idea to try to visualize the data at hand. The code snippet below generates a scatter plot for each local dataset, using the features x1 and x2 (possibly replaced by 0 values) as coordinates. "
   ]
  },
  {
   "cell_type": "code",
   "execution_count": 3,
   "id": "61d4ba71",
   "metadata": {
    "scrolled": false
   },
   "outputs": [
    {
     "data": {
      "image/png": "[encoded data removed]",
      "text/plain": [
       "<Figure size 640x480 with 1 Axes>"
      ]
     },
     "metadata": {},
     "output_type": "display_data"
    },
    {
     "data": {
      "image/png": "[encoded data removed]",
      "text/plain": [
       "<Figure size 640x480 with 1 Axes>"
      ]
     },
     "metadata": {},
     "output_type": "display_data"
    },
    {
     "data": {
      "image/png": "[encoded data removed]",
      "text/plain": [
       "<Figure size 640x480 with 1 Axes>"
      ]
     },
     "metadata": {},
     "output_type": "display_data"
    },
    {
     "data": {
      "image/png": "[encoded data removed]",
      "text/plain": [
       "<Figure size 640x480 with 1 Axes>"
      ]
     },
     "metadata": {},
     "output_type": "display_data"
    }
   ],
   "source": [
    "import matplotlib.pyplot as plt\n",
    "import numpy as np \n",
    "\n",
    "for iter_node in Gin.nodes(): \n",
    "    tmp = Gin.nodes[iter_node]['X']\n",
    "    plt.scatter(tmp[:,0],tmp[:,1])\n",
    "    plt.title(Gin.nodes[iter_node][\"name\"])\n",
    "    plt.show()\n"
   ]
  },
  {
   "cell_type": "code",
   "execution_count": 4,
   "id": "9eb0699d",
   "metadata": {},
   "outputs": [],
   "source": [
    "# You have to use FedSGD to learn weights for a linear hypothesis map for each node/local dataset\n",
    "\n",
    "# FedSGD(Gin,lrate=0.01,regparam=1,maxiter=1000)\n"
   ]
  },
  {
   "cell_type": "code",
   "execution_count": 5,
   "id": "d37c7c07",
   "metadata": {},
   "outputs": [],
   "source": [
    "Gin.add_edge(0,1)\n",
    "Gin.add_edge(2,3)"
   ]
  },
  {
   "cell_type": "code",
   "execution_count": 6,
   "id": "2ce404d8",
   "metadata": {},
   "outputs": [],
   "source": [
    "FedSGD(Gin,lrate=0.01,regparam=1,maxiter=1000)"
   ]
  },
  {
   "cell_type": "code",
   "execution_count": 7,
   "id": "d5014214",
   "metadata": {},
   "outputs": [
    {
     "name": "stdout",
     "output_type": "stream",
     "text": [
      "Helene\n",
      "[[-4.70942813]\n",
      " [ 0.        ]]\n",
      "38.77083117208549\n",
      "\n",
      "\n",
      "Isabella\n",
      "[[-1.13558036]\n",
      " [ 0.        ]]\n",
      "19.360924758058346\n",
      "\n",
      "\n",
      "Anika\n",
      "[[0.        ]\n",
      " [0.48414474]]\n",
      "14.502318221696477\n",
      "\n",
      "\n",
      "Emily\n",
      "[[0.        ]\n",
      " [2.92039076]]\n",
      "72.63526146093736\n",
      "\n",
      "\n"
     ]
    }
   ],
   "source": [
    "for node_i in Gin.nodes(data=False): \n",
    "    weights=Gin.nodes[node_i][\"w\"] #weights\n",
    "    print(Gin.nodes[node_i]['name'])\n",
    "    print(weights)\n",
    "    \n",
    "    X=Gin.nodes[node_i]['X'] #data points\n",
    "    Y_pred=np.dot(X, weights) #predicted labels\n",
    "    \n",
    "    Y_true=Gin.nodes[node_i]['y'] #true labels\n",
    "    MSE = np.square(np.subtract(Y_true,Y_pred)).mean()\n",
    "    print(MSE)\n",
    "    \n",
    "    print(\"\\n\")\n",
    "    \n",
    "Gin.remove_edges_from([(0, 1), (2, 3)])\n"
   ]
  },
  {
   "cell_type": "code",
   "execution_count": 8,
   "id": "f870f378",
   "metadata": {},
   "outputs": [
    {
     "name": "stdout",
     "output_type": "stream",
     "text": [
      "Helene\n",
      "[[-8.15218879]\n",
      " [-1.83663427]]\n",
      "26.459024737965265\n",
      "\n",
      "\n",
      "Isabella\n",
      "[[2.88691339]\n",
      " [5.34037306]]\n",
      "4.978203567364909\n",
      "\n",
      "\n",
      "Anika\n",
      "[[-8.15076089]\n",
      " [-1.83693851]]\n",
      "8.846455289180888\n",
      "\n",
      "\n",
      "Emily\n",
      "[[2.88586769]\n",
      " [5.34146049]]\n",
      "66.73268415926317\n",
      "\n",
      "\n"
     ]
    }
   ],
   "source": [
    "#Different edges configuration\n",
    "Gin.add_edge(0,2)\n",
    "Gin.add_edge(1,3)\n",
    "FedSGD(Gin,lrate=0.01,regparam=1,maxiter=1000)\n",
    "for node_i in Gin.nodes(data=False): \n",
    "    weights=Gin.nodes[node_i][\"w\"] #weights\n",
    "    print(Gin.nodes[node_i]['name'])\n",
    "    print(weights)\n",
    "    \n",
    "    X=Gin.nodes[node_i]['X'] #data points\n",
    "    Y_pred=np.dot(X, weights) #predicted labels\n",
    "    \n",
    "    Y_true=Gin.nodes[node_i]['y'] #true labels\n",
    "    MSE = np.square(np.subtract(Y_true,Y_pred)).mean()\n",
    "    print(MSE)\n",
    "    \n",
    "    print(\"\\n\")\n",
    "Gin.remove_edges_from([(0, 2), (1, 3)])"
   ]
  },
  {
   "cell_type": "code",
   "execution_count": 9,
   "id": "0ffb1719",
   "metadata": {},
   "outputs": [
    {
     "name": "stdout",
     "output_type": "stream",
     "text": [
      "Helene\n",
      "[[-8.15218879]\n",
      " [ 5.34037306]]\n",
      "26.459024737965265\n",
      "\n",
      "\n",
      "Isabella\n",
      "[[ 2.88691339]\n",
      " [-1.83663427]]\n",
      "4.978203567364909\n",
      "\n",
      "\n",
      "Anika\n",
      "[[ 2.88586769]\n",
      " [-1.83693851]]\n",
      "8.846455289180888\n",
      "\n",
      "\n",
      "Emily\n",
      "[[-8.15076089]\n",
      " [ 5.34146049]]\n",
      "66.73268415926317\n",
      "\n",
      "\n"
     ]
    }
   ],
   "source": [
    "#Different edges configuration\n",
    "Gin.add_edge(0,3)\n",
    "Gin.add_edge(1,2)\n",
    "FedSGD(Gin,lrate=0.01,regparam=1,maxiter=1000)\n",
    "for node_i in Gin.nodes(data=False): \n",
    "    weights=Gin.nodes[node_i][\"w\"] #weights\n",
    "    print(Gin.nodes[node_i]['name'])\n",
    "    print(weights)\n",
    "    \n",
    "    X=Gin.nodes[node_i]['X'] #data points\n",
    "    Y_pred=np.dot(X, weights) #predicted labels\n",
    "    \n",
    "    Y_true=Gin.nodes[node_i]['y'] #true labels\n",
    "    MSE = np.square(np.subtract(Y_true,Y_pred)).mean()\n",
    "    print(MSE)\n",
    "    \n",
    "    print(\"\\n\")\n",
    "Gin.remove_edges_from([(0, 3), (1, 2)])"
   ]
  },
  {
   "cell_type": "code",
   "execution_count": 10,
   "id": "26b1480b",
   "metadata": {},
   "outputs": [
    {
     "name": "stdout",
     "output_type": "stream",
     "text": [
      "Helene\n",
      "[[-8.15218879]\n",
      " [ 5.34037306]]\n",
      "26.459024737965265\n",
      "\n",
      "\n",
      "Isabella\n",
      "[[ 2.88691339]\n",
      " [-1.83663427]]\n",
      "4.978203567364909\n",
      "\n",
      "\n",
      "Anika\n",
      "[[ 2.88586769]\n",
      " [-1.83693851]]\n",
      "8.846455289180888\n",
      "\n",
      "\n",
      "Emily\n",
      "[[-8.15076089]\n",
      " [ 5.34146049]]\n",
      "66.73268415926317\n",
      "\n",
      "\n"
     ]
    }
   ],
   "source": [
    "#Different edges configuration\n",
    "Gin.add_edge(1,2)\n",
    "Gin.add_edge(0,3)\n",
    "FedSGD(Gin,lrate=0.01,regparam=1,maxiter=1000)\n",
    "for node_i in Gin.nodes(data=False): \n",
    "    weights=Gin.nodes[node_i][\"w\"] #weights\n",
    "    print(Gin.nodes[node_i]['name'])\n",
    "    print(weights)\n",
    "    \n",
    "    X=Gin.nodes[node_i]['X'] #data points\n",
    "    Y_pred=np.dot(X, weights) #predicted labels\n",
    "    \n",
    "    Y_true=Gin.nodes[node_i]['y'] #true labels\n",
    "    MSE = np.square(np.subtract(Y_true,Y_pred)).mean()\n",
    "    print(MSE)\n",
    "    \n",
    "    print(\"\\n\")\n",
    "Gin.remove_edges_from([(1, 2), (0, 3)])"
   ]
  },
  {
   "cell_type": "code",
   "execution_count": 11,
   "id": "4d1af7f4",
   "metadata": {},
   "outputs": [
    {
     "name": "stdout",
     "output_type": "stream",
     "text": [
      "Helene\n",
      "[[-8.15218879]\n",
      " [-1.83663427]]\n",
      "26.459024737965265\n",
      "\n",
      "\n",
      "Isabella\n",
      "[[2.88691339]\n",
      " [5.34037306]]\n",
      "4.978203567364909\n",
      "\n",
      "\n",
      "Anika\n",
      "[[-8.15076089]\n",
      " [-1.83693851]]\n",
      "8.846455289180888\n",
      "\n",
      "\n",
      "Emily\n",
      "[[2.88586769]\n",
      " [5.34146049]]\n",
      "66.73268415926317\n",
      "\n",
      "\n"
     ]
    }
   ],
   "source": [
    "#Different edges configuration\n",
    "Gin.add_edge(1,3)\n",
    "Gin.add_edge(0,2)\n",
    "FedSGD(Gin,lrate=0.01,regparam=1,maxiter=1000)\n",
    "for node_i in Gin.nodes(data=False): \n",
    "    weights=Gin.nodes[node_i][\"w\"] #weights\n",
    "    print(Gin.nodes[node_i]['name'])\n",
    "    print(weights)\n",
    "    \n",
    "    X=Gin.nodes[node_i]['X'] #data points\n",
    "    Y_pred=np.dot(X, weights) #predicted labels\n",
    "    \n",
    "    Y_true=Gin.nodes[node_i]['y'] #true labels\n",
    "    MSE = np.square(np.subtract(Y_true,Y_pred)).mean()\n",
    "    print(MSE)\n",
    "    \n",
    "    print(\"\\n\")\n",
    "Gin.remove_edges_from([(1, 3), (0, 2)])"
   ]
  },
  {
   "cell_type": "code",
   "execution_count": 12,
   "id": "17438872",
   "metadata": {},
   "outputs": [
    {
     "name": "stdout",
     "output_type": "stream",
     "text": [
      "Helene\n",
      "[[-4.70942813]\n",
      " [ 0.        ]]\n",
      "38.77083117208549\n",
      "\n",
      "\n",
      "Isabella\n",
      "[[-1.13558036]\n",
      " [ 0.        ]]\n",
      "19.360924758058346\n",
      "\n",
      "\n",
      "Anika\n",
      "[[0.        ]\n",
      " [0.48414474]]\n",
      "14.502318221696477\n",
      "\n",
      "\n",
      "Emily\n",
      "[[0.        ]\n",
      " [2.92039076]]\n",
      "72.63526146093736\n",
      "\n",
      "\n"
     ]
    }
   ],
   "source": [
    "#Different edges configuration\n",
    "Gin.add_edge(2,3)\n",
    "Gin.add_edge(0,1)\n",
    "FedSGD(Gin,lrate=0.01,regparam=1,maxiter=1000)\n",
    "for node_i in Gin.nodes(data=False): \n",
    "    weights=Gin.nodes[node_i][\"w\"] #weights\n",
    "    print(Gin.nodes[node_i]['name'])\n",
    "    print(weights)\n",
    "    \n",
    "    X=Gin.nodes[node_i]['X'] #data points\n",
    "    Y_pred=np.dot(X, weights) #predicted labels\n",
    "    \n",
    "    Y_true=Gin.nodes[node_i]['y'] #true labels\n",
    "    MSE = np.square(np.subtract(Y_true,Y_pred)).mean()\n",
    "    print(MSE)\n",
    "    \n",
    "    print(\"\\n\")\n",
    "Gin.remove_edges_from([(2, 3), (0, 1)])"
   ]
  },
  {
   "cell_type": "code",
   "execution_count": 13,
   "id": "b43f6226",
   "metadata": {},
   "outputs": [
    {
     "name": "stdout",
     "output_type": "stream",
     "text": [
      "Helene\n",
      "26.397542587018346\n",
      "Isabella\n",
      "4.973069869839388\n",
      "Anika\n",
      "8.846371377069406\n",
      "Emily\n",
      "66.72308812675512\n"
     ]
    }
   ],
   "source": [
    "#training independently on local dataset\n",
    "from sklearn.linear_model import LinearRegression\n",
    "\n",
    "for node_i in Gin.nodes(data=False): \n",
    "    \n",
    "    print(Gin.nodes[node_i]['name'])\n",
    "    \n",
    "    \n",
    "    X=Gin.nodes[node_i]['X'] #data points\n",
    "    Y_true=Gin.nodes[node_i]['y'] #true labels\n",
    "        \n",
    "    reg = LinearRegression().fit(X, Y_true)\n",
    "    Y_pred=reg.predict(X) #predicted labels\n",
    "    \n",
    "    \n",
    "    \n",
    "    MSE = np.square(np.subtract(Y_true,Y_pred)).mean()\n",
    "    print(MSE)"
   ]
  }
 ],
 "metadata": {
  "kernelspec": {
   "display_name": "Python 3 (ipykernel)",
   "language": "python",
   "name": "python3"
  },
  "language_info": {
   "codemirror_mode": {
    "name": "ipython",
    "version": 3
   },
   "file_extension": ".py",
   "mimetype": "text/x-python",
   "name": "python",
   "nbconvert_exporter": "python",
   "pygments_lexer": "ipython3",
   "version": "3.7.8"
  }
 },
 "nbformat": 4,
 "nbformat_minor": 5
}
